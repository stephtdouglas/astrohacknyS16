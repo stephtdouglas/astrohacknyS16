{
 "cells": [
  {
   "cell_type": "markdown",
   "metadata": {},
   "source": [
    "# Fitting a line to data"
   ]
  },
  {
   "cell_type": "code",
   "execution_count": 12,
   "metadata": {
    "collapsed": true
   },
   "outputs": [],
   "source": [
    "import numpy as np\n",
    "import matplotlib.pyplot as plt\n",
    "%matplotlib inline"
   ]
  },
  {
   "cell_type": "code",
   "execution_count": 13,
   "metadata": {
    "collapsed": true
   },
   "outputs": [],
   "source": [
    "# From DFM's page, just to have an example\n",
    "# http://dan.iel.fm/emcee/current/user/line/\n",
    "\n",
    "# Choose the \"true\" parameters.\n",
    "m_true = -0.9594\n",
    "b_true = 4.294\n",
    "f_true = 0.534\n",
    "\n",
    "# Generate some synthetic data from the model.\n",
    "N = 50\n",
    "x = np.sort(10*np.random.rand(N))\n",
    "yerr = 0.1+0.5*np.random.rand(N)\n",
    "y = m_true*x+b_true\n",
    "y += np.abs(f_true*y) * np.random.randn(N)\n",
    "y += yerr * np.random.randn(N)"
   ]
  },
  {
   "cell_type": "code",
   "execution_count": 16,
   "metadata": {
    "collapsed": false
   },
   "outputs": [
    {
     "data": {
      "text/plain": [
       "<Container object of 3 artists>"
      ]
     },
     "execution_count": 16,
     "metadata": {},
     "output_type": "execute_result"
    },
    {
     "data": {
      "image/png": "[encoded data removed]",
      "text/plain": [
       "<matplotlib.figure.Figure at 0x7fe006655990>"
      ]
     },
     "metadata": {},
     "output_type": "display_data"
    }
   ],
   "source": [
    "plt.errorbar(x,y,yerr,lw=0,elinewidth=1)"
   ]
  },
  {
   "cell_type": "markdown",
   "metadata": {},
   "source": [
    "Whenever fitting - write down your assumptions, say how method is appropriate given your assumptions"
   ]
  },
  {
   "cell_type": "markdown",
   "metadata": {},
   "source": [
    "y_n +/- sigma_n\n",
    "\n",
    "Likelihood - Product[p(y_n | theta)] - this assumes:\n",
    "\n",
    "* Independence - there are no possible calibration issues that can shift points up and down in correlated ways (i.e. half from one instrument and half from another)\n",
    "\n",
    "* Gaussian errors - you observe a value and the distribution of possible true values is symmetric about that point and Gaussian (this is never true, though radio is closest)\n",
    "\n",
    "* We are Correct about sigma_n^2 (and this is never true either) (To break this, introduce uncertainties as parameters\n",
    "\n",
    "* No uncertainty on x_n - it's all on the y_n\n",
    "\n",
    "* No intrinsic width to the distribution, and no outliers (To break this, introduce an additional parameter)\n",
    "\n",
    "p(y_n | theta) = N(y_n | y_n (true), sigma_n^2) where N = Normal/Gaussian distribution"
   ]
  },
  {
   "cell_type": "markdown",
   "metadata": {},
   "source": [
    "log(likelihood) = Sum[-1/2 (y_n - y_n(true))^2 / sigma_n^2]\n",
    "\n",
    "y_n(true) = mx + b \n",
    "\n",
    "theta = {m, b}"
   ]
  },
  {
   "cell_type": "markdown",
   "metadata": {},
   "source": [
    "The likelihood is quadratic in the parameters and in the data\n",
    "\n",
    "Want to find the maximum, so take the derivative, then it's linear in the parameters and the data - linear algebra to the rescue!"
   ]
  },
  {
   "cell_type": "markdown",
   "metadata": {},
   "source": [
    "$-(1/2)[y-A*\\theta]^T C^{-1} [y-A*\\theta]$\n",
    "\n",
    "A is the design matrix - 2 columns, left are the Xs, right are just 1s\n",
    "\n",
    "C^-1 is the error matrix - 1/sigma_i^2 on the diagonal with zeros everywhere else. Do not make this on the computer (taking up storage with the zeros)\n",
    "\n",
    "take the derivative wrt $\\theta$ ??? I'll add the picture of the board with the scalar analogy Hogg used to calculate the derivative\n",
    "\n",
    "$\\theta_{best} = [A^T C^{-1} A]^{-1} [A^T C{-1} y]$\n",
    "\n",
    "the first matrix will turn into a 2x2 matrix - covariance matrix. Note that the uncertainties/covariance are only set by the covariance and design matrices - only x_n and sigma_n. The data's not involved!\n",
    "\n",
    "the second matrix will turn into a 1 column 2 row matrix"
   ]
  },
  {
   "cell_type": "markdown",
   "metadata": {},
   "source": [
    "To plot the line corresponding to the range of best fits - construct a 2D gaussian corresponding to the \"best fit\" with axes/rotation defined by the covariance matrix, make 100 draws at random and plot them"
   ]
  },
  {
   "cell_type": "code",
   "execution_count": null,
   "metadata": {
    "collapsed": true
   },
   "outputs": [],
   "source": []
  }
 ],
 "metadata": {
  "kernelspec": {
   "display_name": "Python 2",
   "language": "python",
   "name": "python2"
  },
  "language_info": {
   "codemirror_mode": {
    "name": "ipython",
    "version": 2
   },
   "file_extension": ".py",
   "mimetype": "text/x-python",
   "name": "python",
   "nbconvert_exporter": "python",
   "pygments_lexer": "ipython2",
   "version": "2.7.9"
  }
 },
 "nbformat": 4,
 "nbformat_minor": 0
}
