{
 "cells": [
  {
   "cell_type": "markdown",
   "metadata": {},
   "source": [
    "# Fitting a model to data with a lot of upper limits\n",
    "(example: Ellie's radio data, which has radio luminosities (mostly upper limits) as a function of brown dwarf spectral type)"
   ]
  },
  {
   "cell_type": "code",
   "execution_count": 1,
   "metadata": {
    "collapsed": true
   },
   "outputs": [],
   "source": [
    "import numpy as np\n",
    "import matplotlib.pyplot as plt\n",
    "%matplotlib inline"
   ]
  },
  {
   "cell_type": "markdown",
   "metadata": {},
   "source": [
    "N detections, M upper limits\n",
    "\n",
    "Each detection point has a value $y_n \\pm \\sigma_n$\n",
    "\n",
    "Each upper limit has a value $y(x_m) < y_m$ at 99% confidence (something like that, there's no standard way to write it)\n"
   ]
  },
  {
   "cell_type": "markdown",
   "metadata": {},
   "source": [
    "Last week:\n",
    "\n",
    "lnlike = $-\\frac{1}{2} \\chi^2$\n",
    "\n",
    "$\\chi^2 = \\Sigma[(y_n-\\mu(x_n|\\theta))^2 / \\sigma_n^2]$\n",
    "\n",
    "Can we keep all the assumptions about using this form? "
   ]
  },
  {
   "cell_type": "markdown",
   "metadata": {},
   "source": [
    "Four simple options for dealing with this:\n",
    "\n",
    "0) Just ignore them and fit the detections\n",
    "\n",
    "1) BEST: go to the data and measure the points anyway (upper limits mean they made a measurement and decided it didn't meet their criteria - just take that number and its really big error bar, as long as it's approximately Gaussian). \"Forced Photometry\", then just do $\\chi^2$ fitting.\n",
    "\n",
    "2) HACK (easiest): pretend that $y(x_m) = 0 \\pm \\Sigma_m$, design $\\Sigma_m$ such that $y_m$ is the 99% ($3\\sigma$) limit. This is wrong for many reasons, and extremely conservative (which makes it kind of ok)"
   ]
  },
  {
   "cell_type": "markdown",
   "metadata": {},
   "source": [
    "3) MODEL: $y(x_m) = Y_m \\pm \\Sigma_m$, where $Y_m$ is a free parameter (adding M parameters), and $\\Sigma_m$ will be the corresponding 99% limit\n",
    "\n",
    "- $\\Sigma_m$ is a function of $Y_m$, so we have to modify $\\chi^2$\n",
    "\n",
    "- so now, lnlike = $-\\frac{1}{2}\\chi^2 - \\frac{1}{2}\\Sigma ln(\\sigma_n^2)$ (lnlike has to include anything that might change, in this case the $\\Sigma_m$)\n",
    "\n",
    " - if you forget to do that, the $Y_m$ drop to negative infinity and the $\\Sigma_m$ go to infinity\n",
    " \n",
    "- Adding M additional parameters\n",
    "\n",
    "- Need priors\n",
    "\n",
    "- MCMC and marginalize\n",
    "\n",
    "(this is best for a relatively small number of upper limits, but very computational expensive the more upper limits there are) (I think it will work well for my activity-rotation fits, with the upper limits on Halpha and X-ray luminosities)\n",
    "\n",
    "4) Find the maximum entropy distribution with the upper limits as a 99% limit, but this requires that the upper limits were taken properly, and some other assumptions, basically don't do this unless you're very sure"
   ]
  },
  {
   "cell_type": "markdown",
   "metadata": {},
   "source": [
    "(2) is more correct than 3 if the upper limit is simply derived from their typical errors (i.e. took a measurement, it wasn't bright enough, so they just delete the value and say \"upper limit = 3 times the background\" or something similar)\n",
    "\n",
    "(3) assumes that they used their measurement plus 3 sigma to give the upper limit\n",
    "\n",
    "When there are upper limits, you're taking a hit somewhere to use them in the analysis, it's just picking the best option. "
   ]
  },
  {
   "cell_type": "markdown",
   "metadata": {},
   "source": [
    "4) (alternate): lnlike = $\\Sigma\\chi_n^2 + \\Sigma f(y_m)$ (first term deals with the detections, second gives a proper function of the upper limits, it has to be a proper ln probability, but can use a different distribution)"
   ]
  },
  {
   "cell_type": "markdown",
   "metadata": {},
   "source": [
    "relevant paper by B. Kelly? Closer to (3)"
   ]
  },
  {
   "cell_type": "markdown",
   "metadata": {},
   "source": []
  }
 ],
 "metadata": {
  "kernelspec": {
   "display_name": "Python 2",
   "language": "python",
   "name": "python2"
  },
  "language_info": {
   "codemirror_mode": {
    "name": "ipython",
    "version": 2
   },
   "file_extension": ".py",
   "mimetype": "text/x-python",
   "name": "python",
   "nbconvert_exporter": "python",
   "pygments_lexer": "ipython2",
   "version": "2.7.9"
  }
 },
 "nbformat": 4,
 "nbformat_minor": 0
}
